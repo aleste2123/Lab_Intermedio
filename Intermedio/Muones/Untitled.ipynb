{
 "cells": [
  {
   "cell_type": "code",
   "execution_count": 34,
   "id": "d32e257d",
   "metadata": {},
   "outputs": [],
   "source": [
    "import numpy as np\n",
    "import matplotlib.pyplot as plt"
   ]
  },
  {
   "cell_type": "markdown",
   "id": "9fe9b6bc",
   "metadata": {},
   "source": [
    "# Caracterización amplificador\n",
    "\n",
    "1. V_out/Vin = a"
   ]
  },
  {
   "cell_type": "code",
   "execution_count": 43,
   "id": "a51280cc",
   "metadata": {},
   "outputs": [
    {
     "name": "stdout",
     "output_type": "stream",
     "text": [
      "15.6\n",
      "327.59999999999997\n",
      "16.2\n",
      "340.2\n",
      "17.0\n",
      "357.0\n",
      "16.2\n",
      "340.2\n",
      "15.8\n",
      "331.8\n",
      "14.6\n",
      "306.59999999999997\n",
      "12.6\n",
      "264.59999999999997\n",
      "8.0\n",
      "168.0\n",
      "3.1599999999999997\n",
      "66.36\n",
      "1.64\n",
      "66.36\n"
     ]
    },
    {
     "data": {
      "text/plain": [
       "<matplotlib.collections.PathCollection at 0x10e957cd0>"
      ]
     },
     "execution_count": 43,
     "metadata": {},
     "output_type": "execute_result"
    },
    {
     "data": {
      "image/png": "[encoded data removed]",
      "text/plain": [
       "<Figure size 1000x500 with 2 Axes>"
      ]
     },
     "metadata": {},
     "output_type": "display_data"
    }
   ],
   "source": [
    "a_100 = 1.56/(0.1)\n",
    "print(a_100)\n",
    "g_100 = 21*a_100\n",
    "print(g_100)\n",
    "\n",
    "\n",
    "a_200 = 1.62/(0.1)\n",
    "print(a_200)\n",
    "g_200 = 21*a_200\n",
    "print(g_200)\n",
    "\n",
    "\n",
    "\n",
    "a_300 = 1.70/(0.1)\n",
    "print(a_300)\n",
    "g_300 = 21*a_300\n",
    "print(g_300)\n",
    "\n",
    "\n",
    "a_400 = 1.62/(0.1)\n",
    "print(a_400)\n",
    "g_400 = 21*a_400\n",
    "print(g_400)\n",
    "\n",
    "a_500 = 1.58/(0.1)\n",
    "print(a_500)\n",
    "g_500 = 21*a_500\n",
    "print(g_500)\n",
    "\n",
    "\n",
    "\n",
    "a_700 = 1.46/(0.1)\n",
    "print(a_700)\n",
    "g_700 = 21*a_700\n",
    "print(g_700)\n",
    "\n",
    "\n",
    "\n",
    "a_1 = 1.26/(0.1)\n",
    "print(a_1)\n",
    "g_1 = 21*a_1\n",
    "print(g_1)\n",
    "\n",
    "\n",
    "a_2 = 0.8/(0.1)\n",
    "print(a_2)\n",
    "g_2 = 21*a_2\n",
    "print(g_2)\n",
    "\n",
    "\n",
    "a_5 = 0.316/(0.1)\n",
    "print(a_5)\n",
    "g_5 = 21*a_5\n",
    "print(g_5)\n",
    "\n",
    "a_10 = 0.164/(0.1)\n",
    "print(a_10)\n",
    "g_10 = 21*a_10\n",
    "print(g_5)\n",
    "\n",
    "f = np.array([100e3, 200e3, 300e3, 400e3, 500e3, 700e3, 1e6, 2e6, 5e6, 10e6 ])\n",
    "\n",
    "\n",
    "\n",
    "a = np.array([a_100, a_200, a_300, a_400, a_500, a_700, a_1, a_2, a_5, a_10])\n",
    "g = a = np.array([g_100, g_200, g_300, g_400, g_500, g_700, g_1, g_2, g_5, g_10])\n",
    "\n",
    "\n",
    "fig, (ax1, ax2) = plt.subplots(1, 2, figsize=(10, 5))\n",
    "\n",
    "\n",
    "ax1.scatter(f,a)\n",
    "ax2.scatter(f,g)"
   ]
  },
  {
   "cell_type": "markdown",
   "id": "6af6094a",
   "metadata": {},
   "source": [
    "2. parte\n",
    "\n",
    "\n",
    "valores de amp en el video"
   ]
  },
  {
   "cell_type": "code",
   "execution_count": 46,
   "id": "65345405",
   "metadata": {},
   "outputs": [
    {
     "name": "stdout",
     "output_type": "stream",
     "text": [
      "2e-06\n"
     ]
    }
   ],
   "source": [
    "print(2000e-9)"
   ]
  },
  {
   "cell_type": "markdown",
   "id": "23e39374",
   "metadata": {},
   "source": [
    "# Caracterizacion del discriminnador\n",
    "\n",
    "1. voltaje de 50 mVpp"
   ]
  },
  {
   "cell_type": "code",
   "execution_count": 47,
   "id": "bba14de2",
   "metadata": {},
   "outputs": [
    {
     "data": {
      "text/plain": [
       "3.6"
      ]
     },
     "execution_count": 47,
     "metadata": {},
     "output_type": "execute_result"
    }
   ],
   "source": [
    "3.6"
   ]
  },
  {
   "cell_type": "markdown",
   "id": "cc33e64d",
   "metadata": {},
   "source": [
    "# Caracterisacion de la FPGA"
   ]
  },
  {
   "cell_type": "code",
   "execution_count": null,
   "id": "9f6fb932",
   "metadata": {},
   "outputs": [],
   "source": []
  }
 ],
 "metadata": {
  "kernelspec": {
   "display_name": "Python 3 (ipykernel)",
   "language": "python",
   "name": "python3"
  },
  "language_info": {
   "codemirror_mode": {
    "name": "ipython",
    "version": 3
   },
   "file_extension": ".py",
   "mimetype": "text/x-python",
   "name": "python",
   "nbconvert_exporter": "python",
   "pygments_lexer": "ipython3",
   "version": "3.11.4"
  }
 },
 "nbformat": 4,
 "nbformat_minor": 5
}
