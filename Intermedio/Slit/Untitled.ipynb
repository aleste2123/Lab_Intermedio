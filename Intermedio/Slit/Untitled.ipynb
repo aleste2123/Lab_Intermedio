{
 "cells": [
  {
   "cell_type": "code",
   "execution_count": 2,
   "id": "52355b8f",
   "metadata": {},
   "outputs": [
    {
     "ename": "NameError",
     "evalue": "name 'np' is not defined",
     "output_type": "error",
     "traceback": [
      "\u001b[0;31m---------------------------------------------------------------------------\u001b[0m",
      "\u001b[0;31mNameError\u001b[0m                                 Traceback (most recent call last)",
      "Cell \u001b[0;32mIn[2], line 1\u001b[0m\n\u001b[0;32m----> 1\u001b[0m ii \u001b[38;5;241m=\u001b[39m np\u001b[38;5;241m.\u001b[39mwhere( data\u001b[38;5;241m.\u001b[39mVoltaje \u001b[38;5;241m==\u001b[39m np\u001b[38;5;241m.\u001b[39mamax(data\u001b[38;5;241m.\u001b[39mVoltaje) )\n\u001b[1;32m      2\u001b[0m Max_ \u001b[38;5;241m=\u001b[39m data\u001b[38;5;241m.\u001b[39mDistancia\u001b[38;5;241m.\u001b[39miloc[ii]\n\u001b[1;32m      3\u001b[0m Max_[\u001b[38;5;241m327\u001b[39m]\n",
      "\u001b[0;31mNameError\u001b[0m: name 'np' is not defined"
     ]
    }
   ],
   "source": [
    "data = pd.read_excel('datos/doble_rendija.xlsx')\n",
    "data = data[data.Distancia < 9000]\n",
    "\n",
    "ii = np.where( data.Voltaje == np.amax(data.Voltaje) )\n",
    "Max_ = data.Distancia.iloc[ii]\n",
    "Max_[327]\n",
    "x = data.Distancia - Max_[327]\n",
    "y = data.Voltaje\n",
    "\n",
    "plt.scatter(x,y)\n",
    "plt.xlabel(\"Distancia (mm)\")\n",
    "plt.ylabel(\"Voltaje (V)\")\n",
    "plt.savefig(\"Doble_rendija_sin.jpg\")\n",
    "data = np.loadtxt(Path_)\n",
    "x = data[:,0]\n",
    "y = data[:,1]\n",
    "N = len(x)\n",
    "\n",
    "sigma = np.random.normal(loc=0,scale=10,size=N)\n",
    "sigma = np.abs(sigma)\n",
    "print(sigma)\n",
    "plt.errorbar(x,y,yerr=sigma,fmt='.',color='r')\n",
    "# Definimos el modelo con sus parametros\n",
    "def GetModel(x,p):\n",
    "\n",
    "    A,B,C = p\n",
    "\n",
    "    y = A*np.cos( B*x )**2 * ( np.sin(C*x)/(C*x) )**2\n",
    "\n",
    "    return y\n",
    "def Chi2(p,x,y,Model):\n",
    "    return np.sum( ( ( y - Model(x,p) ) )**2 )\n",
    "\n",
    "#primer modelo\n",
    "p0 = np.ones(3)\n",
    "nll = lambda *p: Chi2(*p)\n",
    "nll(p0,x,y,GetModel)\n",
    "\n",
    "result = spo.minimize( nll, p0, args=(x,y,GetModel), options={\"disp\":True})\n",
    "\n",
    "if result.success:\n",
    "    print('Success!')\n",
    "    print(f\"x={result.x} y = {result.fun}\")\n",
    "else:\n",
    "    print('could not find a minimum')\n",
    "    print(f\"x={result.x} y = {result.fun}\")\n",
    "\n",
    "Optparam = result.x\n",
    "\n",
    "_t = np.linspace(np.min(x),np.max(x),200)\n",
    "_y = GetModel(_t,Optparam)\n",
    "plt.scatter(x,y)\n",
    "plt.plot(_t,_y,color='r')\n",
    "plt.xlabel(\"Distancia (mm)\")\n",
    "plt.ylabel(\"Voltaje (V)\")\n",
    "plt.savefig(\"Doble rendija.jpg\")\n",
    "\n",
    "ObsChi2 = Chi2(Optparam,x,y,sigma,GetModel)\n",
    "ObsChi2\n",
    "\n",
    "def Chi2Reducido(p,Model):\n",
    "    return Chi2(p,x,y,sigma,Model)/(N-len(p))\n",
    "Chi2R = Chi2Reducido(param,GetModel1)\n",
    "Chi2R"
   ]
  }
 ],
 "metadata": {
  "kernelspec": {
   "display_name": "Python 3 (ipykernel)",
   "language": "python",
   "name": "python3"
  },
  "language_info": {
   "codemirror_mode": {
    "name": "ipython",
    "version": 3
   },
   "file_extension": ".py",
   "mimetype": "text/x-python",
   "name": "python",
   "nbconvert_exporter": "python",
   "pygments_lexer": "ipython3",
   "version": "3.11.4"
  }
 },
 "nbformat": 4,
 "nbformat_minor": 5
}
